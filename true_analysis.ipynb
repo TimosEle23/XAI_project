{
 "cells": [
  {
   "cell_type": "code",
   "execution_count": 1,
   "metadata": {},
   "outputs": [],
   "source": [
    "import pandas as pd\n",
    "import numpy as np\n",
    "import matplotlib.pyplot as plt\n",
    "import seaborn as sns \n",
    "from matplotlib.patches import Patch\n",
    "from sklearn.preprocessing import StandardScaler, LabelEncoder,MinMaxScaler\n",
    "from sklearn.impute import KNNImputer\n",
    "from sklearn.ensemble import RandomForestRegressor,RandomForestClassifier\n",
    "from sklearn.metrics import mean_squared_error, mean_absolute_error,r2_score,accuracy_score\n",
    "from sklearn.model_selection import train_test_split\n",
    "from lightgbm import LGBMRegressor\n",
    "from sklearn.datasets import make_regression,make_classification"
   ]
  },
  {
   "cell_type": "code",
   "execution_count": 2,
   "metadata": {},
   "outputs": [
    {
     "data": {
      "application/vnd.microsoft.datawrangler.viewer.v0+json": {
       "columns": [
        {
         "name": "index",
         "rawType": "int64",
         "type": "integer"
        },
        {
         "name": "id",
         "rawType": "int64",
         "type": "integer"
        },
        {
         "name": "name",
         "rawType": "object",
         "type": "string"
        },
        {
         "name": "first",
         "rawType": "object",
         "type": "string"
        },
        {
         "name": "last",
         "rawType": "object",
         "type": "string"
        },
        {
         "name": "compas_screening_date",
         "rawType": "object",
         "type": "string"
        },
        {
         "name": "sex",
         "rawType": "object",
         "type": "string"
        },
        {
         "name": "dob",
         "rawType": "object",
         "type": "string"
        },
        {
         "name": "age",
         "rawType": "int64",
         "type": "integer"
        },
        {
         "name": "age_cat",
         "rawType": "object",
         "type": "string"
        },
        {
         "name": "race",
         "rawType": "object",
         "type": "string"
        },
        {
         "name": "juv_fel_count",
         "rawType": "int64",
         "type": "integer"
        },
        {
         "name": "decile_score",
         "rawType": "int64",
         "type": "integer"
        },
        {
         "name": "juv_misd_count",
         "rawType": "int64",
         "type": "integer"
        },
        {
         "name": "juv_other_count",
         "rawType": "int64",
         "type": "integer"
        },
        {
         "name": "priors_count",
         "rawType": "int64",
         "type": "integer"
        },
        {
         "name": "days_b_screening_arrest",
         "rawType": "float64",
         "type": "float"
        },
        {
         "name": "c_jail_in",
         "rawType": "object",
         "type": "unknown"
        },
        {
         "name": "c_jail_out",
         "rawType": "object",
         "type": "unknown"
        },
        {
         "name": "c_case_number",
         "rawType": "object",
         "type": "string"
        },
        {
         "name": "c_offense_date",
         "rawType": "object",
         "type": "unknown"
        },
        {
         "name": "c_arrest_date",
         "rawType": "object",
         "type": "unknown"
        },
        {
         "name": "c_days_from_compas",
         "rawType": "float64",
         "type": "float"
        },
        {
         "name": "c_charge_degree",
         "rawType": "object",
         "type": "string"
        },
        {
         "name": "c_charge_desc",
         "rawType": "object",
         "type": "string"
        },
        {
         "name": "is_recid",
         "rawType": "int64",
         "type": "integer"
        },
        {
         "name": "r_case_number",
         "rawType": "object",
         "type": "unknown"
        },
        {
         "name": "r_charge_degree",
         "rawType": "object",
         "type": "unknown"
        },
        {
         "name": "r_days_from_arrest",
         "rawType": "float64",
         "type": "float"
        },
        {
         "name": "r_offense_date",
         "rawType": "object",
         "type": "unknown"
        },
        {
         "name": "r_charge_desc",
         "rawType": "object",
         "type": "unknown"
        },
        {
         "name": "r_jail_in",
         "rawType": "object",
         "type": "unknown"
        },
        {
         "name": "r_jail_out",
         "rawType": "object",
         "type": "unknown"
        },
        {
         "name": "violent_recid",
         "rawType": "float64",
         "type": "float"
        },
        {
         "name": "is_violent_recid",
         "rawType": "int64",
         "type": "integer"
        },
        {
         "name": "vr_case_number",
         "rawType": "object",
         "type": "unknown"
        },
        {
         "name": "vr_charge_degree",
         "rawType": "object",
         "type": "unknown"
        },
        {
         "name": "vr_offense_date",
         "rawType": "object",
         "type": "unknown"
        },
        {
         "name": "vr_charge_desc",
         "rawType": "object",
         "type": "unknown"
        },
        {
         "name": "type_of_assessment",
         "rawType": "object",
         "type": "string"
        },
        {
         "name": "decile_score.1",
         "rawType": "int64",
         "type": "integer"
        },
        {
         "name": "score_text",
         "rawType": "object",
         "type": "string"
        },
        {
         "name": "screening_date",
         "rawType": "object",
         "type": "string"
        },
        {
         "name": "v_type_of_assessment",
         "rawType": "object",
         "type": "string"
        },
        {
         "name": "v_decile_score",
         "rawType": "int64",
         "type": "integer"
        },
        {
         "name": "v_score_text",
         "rawType": "object",
         "type": "string"
        },
        {
         "name": "v_screening_date",
         "rawType": "object",
         "type": "string"
        },
        {
         "name": "in_custody",
         "rawType": "object",
         "type": "unknown"
        },
        {
         "name": "out_custody",
         "rawType": "object",
         "type": "unknown"
        },
        {
         "name": "priors_count.1",
         "rawType": "int64",
         "type": "integer"
        },
        {
         "name": "start",
         "rawType": "int64",
         "type": "integer"
        },
        {
         "name": "end",
         "rawType": "int64",
         "type": "integer"
        },
        {
         "name": "event",
         "rawType": "int64",
         "type": "integer"
        },
        {
         "name": "two_year_recid",
         "rawType": "int64",
         "type": "integer"
        },
        {
         "name": "two_year_recid.1",
         "rawType": "int64",
         "type": "integer"
        }
       ],
       "conversionMethod": "pd.DataFrame",
       "ref": "a473ff5e-6fc0-43e2-8740-d2be25f466a4",
       "rows": [
        [
         "0",
         "1",
         "miguel hernandez",
         "miguel",
         "hernandez",
         "2013-08-14",
         "Male",
         "1947-04-18",
         "69",
         "Greater than 45",
         "Other",
         "0",
         "1",
         "0",
         "0",
         "0",
         "-1.0",
         "2013-08-13 06:03:42",
         "2013-08-14 05:41:20",
         "13011352CF10A",
         "2013-08-13",
         null,
         "1.0",
         "F",
         "Aggravated Assault w/Firearm",
         "0",
         null,
         null,
         null,
         null,
         null,
         null,
         null,
         null,
         "0",
         null,
         null,
         null,
         null,
         "Risk of Recidivism",
         "1",
         "Low",
         "2013-08-14",
         "Risk of Violence",
         "1",
         "Low",
         "2013-08-14",
         "2014-07-07",
         "2014-07-14",
         "0",
         "0",
         "327",
         "0",
         "0",
         "0"
        ],
        [
         "1",
         "3",
         "kevon dixon",
         "kevon",
         "dixon",
         "2013-01-27",
         "Male",
         "1982-01-22",
         "34",
         "25 - 45",
         "African-American",
         "0",
         "3",
         "0",
         "0",
         "0",
         "-1.0",
         "2013-01-26 03:45:27",
         "2013-02-05 05:36:53",
         "13001275CF10A",
         "2013-01-26",
         null,
         "1.0",
         "F",
         "Felony Battery w/Prior Convict",
         "1",
         "13009779CF10A",
         "(F3)",
         null,
         "2013-07-05",
         "Felony Battery (Dom Strang)",
         null,
         null,
         null,
         "1",
         "13009779CF10A",
         "(F3)",
         "2013-07-05",
         "Felony Battery (Dom Strang)",
         "Risk of Recidivism",
         "3",
         "Low",
         "2013-01-27",
         "Risk of Violence",
         "1",
         "Low",
         "2013-01-27",
         "2013-01-26",
         "2013-02-05",
         "0",
         "9",
         "159",
         "1",
         "1",
         "1"
        ],
        [
         "2",
         "5",
         "marcu brown",
         "marcu",
         "brown",
         "2013-01-13",
         "Male",
         "1993-01-21",
         "23",
         "Less than 25",
         "African-American",
         "0",
         "8",
         "1",
         "0",
         "1",
         null,
         null,
         null,
         "13000570CF10A",
         "2013-01-12",
         null,
         "1.0",
         "F",
         "Possession of Cannabis",
         "0",
         null,
         null,
         null,
         null,
         null,
         null,
         null,
         null,
         "0",
         null,
         null,
         null,
         null,
         "Risk of Recidivism",
         "8",
         "High",
         "2013-01-13",
         "Risk of Violence",
         "6",
         "Medium",
         "2013-01-13",
         null,
         null,
         "1",
         "0",
         "1174",
         "0",
         "0",
         "0"
        ],
        [
         "3",
         "6",
         "bouthy pierrelouis",
         "bouthy",
         "pierrelouis",
         "2013-03-26",
         "Male",
         "1973-01-22",
         "43",
         "25 - 45",
         "Other",
         "0",
         "1",
         "0",
         "0",
         "2",
         null,
         null,
         null,
         "12014130CF10A",
         null,
         "2013-01-09",
         "76.0",
         "F",
         "arrest case no charge",
         "0",
         null,
         null,
         null,
         null,
         null,
         null,
         null,
         null,
         "0",
         null,
         null,
         null,
         null,
         "Risk of Recidivism",
         "1",
         "Low",
         "2013-03-26",
         "Risk of Violence",
         "1",
         "Low",
         "2013-03-26",
         null,
         null,
         "2",
         "0",
         "1102",
         "0",
         "0",
         "0"
        ],
        [
         "4",
         "7",
         "marsha miles",
         "marsha",
         "miles",
         "2013-11-30",
         "Male",
         "1971-08-22",
         "44",
         "25 - 45",
         "Other",
         "0",
         "1",
         "0",
         "0",
         "0",
         "0.0",
         "2013-11-30 04:50:18",
         "2013-12-01 12:28:56",
         "13022355MM10A",
         "2013-11-30",
         null,
         "0.0",
         "M",
         "Battery",
         "0",
         null,
         null,
         null,
         null,
         null,
         null,
         null,
         null,
         "0",
         null,
         null,
         null,
         null,
         "Risk of Recidivism",
         "1",
         "Low",
         "2013-11-30",
         "Risk of Violence",
         "1",
         "Low",
         "2013-11-30",
         "2013-11-30",
         "2013-12-01",
         "0",
         "1",
         "853",
         "0",
         "0",
         "0"
        ]
       ],
       "shape": {
        "columns": 54,
        "rows": 5
       }
      },
      "text/html": [
       "<div>\n",
       "<style scoped>\n",
       "    .dataframe tbody tr th:only-of-type {\n",
       "        vertical-align: middle;\n",
       "    }\n",
       "\n",
       "    .dataframe tbody tr th {\n",
       "        vertical-align: top;\n",
       "    }\n",
       "\n",
       "    .dataframe thead th {\n",
       "        text-align: right;\n",
       "    }\n",
       "</style>\n",
       "<table border=\"1\" class=\"dataframe\">\n",
       "  <thead>\n",
       "    <tr style=\"text-align: right;\">\n",
       "      <th></th>\n",
       "      <th>id</th>\n",
       "      <th>name</th>\n",
       "      <th>first</th>\n",
       "      <th>last</th>\n",
       "      <th>compas_screening_date</th>\n",
       "      <th>sex</th>\n",
       "      <th>dob</th>\n",
       "      <th>age</th>\n",
       "      <th>age_cat</th>\n",
       "      <th>race</th>\n",
       "      <th>...</th>\n",
       "      <th>v_score_text</th>\n",
       "      <th>v_screening_date</th>\n",
       "      <th>in_custody</th>\n",
       "      <th>out_custody</th>\n",
       "      <th>priors_count.1</th>\n",
       "      <th>start</th>\n",
       "      <th>end</th>\n",
       "      <th>event</th>\n",
       "      <th>two_year_recid</th>\n",
       "      <th>two_year_recid.1</th>\n",
       "    </tr>\n",
       "  </thead>\n",
       "  <tbody>\n",
       "    <tr>\n",
       "      <th>0</th>\n",
       "      <td>1</td>\n",
       "      <td>miguel hernandez</td>\n",
       "      <td>miguel</td>\n",
       "      <td>hernandez</td>\n",
       "      <td>2013-08-14</td>\n",
       "      <td>Male</td>\n",
       "      <td>1947-04-18</td>\n",
       "      <td>69</td>\n",
       "      <td>Greater than 45</td>\n",
       "      <td>Other</td>\n",
       "      <td>...</td>\n",
       "      <td>Low</td>\n",
       "      <td>2013-08-14</td>\n",
       "      <td>2014-07-07</td>\n",
       "      <td>2014-07-14</td>\n",
       "      <td>0</td>\n",
       "      <td>0</td>\n",
       "      <td>327</td>\n",
       "      <td>0</td>\n",
       "      <td>0</td>\n",
       "      <td>0</td>\n",
       "    </tr>\n",
       "    <tr>\n",
       "      <th>1</th>\n",
       "      <td>3</td>\n",
       "      <td>kevon dixon</td>\n",
       "      <td>kevon</td>\n",
       "      <td>dixon</td>\n",
       "      <td>2013-01-27</td>\n",
       "      <td>Male</td>\n",
       "      <td>1982-01-22</td>\n",
       "      <td>34</td>\n",
       "      <td>25 - 45</td>\n",
       "      <td>African-American</td>\n",
       "      <td>...</td>\n",
       "      <td>Low</td>\n",
       "      <td>2013-01-27</td>\n",
       "      <td>2013-01-26</td>\n",
       "      <td>2013-02-05</td>\n",
       "      <td>0</td>\n",
       "      <td>9</td>\n",
       "      <td>159</td>\n",
       "      <td>1</td>\n",
       "      <td>1</td>\n",
       "      <td>1</td>\n",
       "    </tr>\n",
       "    <tr>\n",
       "      <th>2</th>\n",
       "      <td>5</td>\n",
       "      <td>marcu brown</td>\n",
       "      <td>marcu</td>\n",
       "      <td>brown</td>\n",
       "      <td>2013-01-13</td>\n",
       "      <td>Male</td>\n",
       "      <td>1993-01-21</td>\n",
       "      <td>23</td>\n",
       "      <td>Less than 25</td>\n",
       "      <td>African-American</td>\n",
       "      <td>...</td>\n",
       "      <td>Medium</td>\n",
       "      <td>2013-01-13</td>\n",
       "      <td>NaN</td>\n",
       "      <td>NaN</td>\n",
       "      <td>1</td>\n",
       "      <td>0</td>\n",
       "      <td>1174</td>\n",
       "      <td>0</td>\n",
       "      <td>0</td>\n",
       "      <td>0</td>\n",
       "    </tr>\n",
       "    <tr>\n",
       "      <th>3</th>\n",
       "      <td>6</td>\n",
       "      <td>bouthy pierrelouis</td>\n",
       "      <td>bouthy</td>\n",
       "      <td>pierrelouis</td>\n",
       "      <td>2013-03-26</td>\n",
       "      <td>Male</td>\n",
       "      <td>1973-01-22</td>\n",
       "      <td>43</td>\n",
       "      <td>25 - 45</td>\n",
       "      <td>Other</td>\n",
       "      <td>...</td>\n",
       "      <td>Low</td>\n",
       "      <td>2013-03-26</td>\n",
       "      <td>NaN</td>\n",
       "      <td>NaN</td>\n",
       "      <td>2</td>\n",
       "      <td>0</td>\n",
       "      <td>1102</td>\n",
       "      <td>0</td>\n",
       "      <td>0</td>\n",
       "      <td>0</td>\n",
       "    </tr>\n",
       "    <tr>\n",
       "      <th>4</th>\n",
       "      <td>7</td>\n",
       "      <td>marsha miles</td>\n",
       "      <td>marsha</td>\n",
       "      <td>miles</td>\n",
       "      <td>2013-11-30</td>\n",
       "      <td>Male</td>\n",
       "      <td>1971-08-22</td>\n",
       "      <td>44</td>\n",
       "      <td>25 - 45</td>\n",
       "      <td>Other</td>\n",
       "      <td>...</td>\n",
       "      <td>Low</td>\n",
       "      <td>2013-11-30</td>\n",
       "      <td>2013-11-30</td>\n",
       "      <td>2013-12-01</td>\n",
       "      <td>0</td>\n",
       "      <td>1</td>\n",
       "      <td>853</td>\n",
       "      <td>0</td>\n",
       "      <td>0</td>\n",
       "      <td>0</td>\n",
       "    </tr>\n",
       "  </tbody>\n",
       "</table>\n",
       "<p>5 rows × 54 columns</p>\n",
       "</div>"
      ],
      "text/plain": [
       "   id                name   first         last compas_screening_date   sex  \\\n",
       "0   1    miguel hernandez  miguel    hernandez            2013-08-14  Male   \n",
       "1   3         kevon dixon   kevon        dixon            2013-01-27  Male   \n",
       "2   5         marcu brown   marcu        brown            2013-01-13  Male   \n",
       "3   6  bouthy pierrelouis  bouthy  pierrelouis            2013-03-26  Male   \n",
       "4   7        marsha miles  marsha        miles            2013-11-30  Male   \n",
       "\n",
       "          dob  age          age_cat              race  ...  v_score_text  \\\n",
       "0  1947-04-18   69  Greater than 45             Other  ...           Low   \n",
       "1  1982-01-22   34          25 - 45  African-American  ...           Low   \n",
       "2  1993-01-21   23     Less than 25  African-American  ...        Medium   \n",
       "3  1973-01-22   43          25 - 45             Other  ...           Low   \n",
       "4  1971-08-22   44          25 - 45             Other  ...           Low   \n",
       "\n",
       "   v_screening_date  in_custody  out_custody  priors_count.1  start   end  \\\n",
       "0        2013-08-14  2014-07-07   2014-07-14               0      0   327   \n",
       "1        2013-01-27  2013-01-26   2013-02-05               0      9   159   \n",
       "2        2013-01-13         NaN          NaN               1      0  1174   \n",
       "3        2013-03-26         NaN          NaN               2      0  1102   \n",
       "4        2013-11-30  2013-11-30   2013-12-01               0      1   853   \n",
       "\n",
       "  event two_year_recid two_year_recid.1  \n",
       "0     0              0                0  \n",
       "1     1              1                1  \n",
       "2     0              0                0  \n",
       "3     0              0                0  \n",
       "4     0              0                0  \n",
       "\n",
       "[5 rows x 54 columns]"
      ]
     },
     "execution_count": 2,
     "metadata": {},
     "output_type": "execute_result"
    }
   ],
   "source": [
    "df = pd.read_csv(\"./archive/compas-scores-two-years-violent.csv\")\n",
    "df.head()"
   ]
  },
  {
   "cell_type": "code",
   "execution_count": 4,
   "metadata": {},
   "outputs": [],
   "source": [
    "selected_columns = ['sex','age', 'race', 'juv_fel_count','decile_score',\n",
    "                    'juv_misd_count','juv_other_count', 'priors_count',\n",
    "                    'c_jail_in', 'c_jail_out','c_charge_degree', \"is_recid\", \n",
    "                    'is_violent_recid']"
   ]
  },
  {
   "cell_type": "code",
   "execution_count": 5,
   "metadata": {},
   "outputs": [
    {
     "data": {
      "application/vnd.microsoft.datawrangler.viewer.v0+json": {
       "columns": [
        {
         "name": "index",
         "rawType": "int64",
         "type": "integer"
        },
        {
         "name": "sex",
         "rawType": "object",
         "type": "string"
        },
        {
         "name": "age",
         "rawType": "int64",
         "type": "integer"
        },
        {
         "name": "race",
         "rawType": "object",
         "type": "string"
        },
        {
         "name": "juv_fel_count",
         "rawType": "int64",
         "type": "integer"
        },
        {
         "name": "decile_score",
         "rawType": "int64",
         "type": "integer"
        },
        {
         "name": "juv_misd_count",
         "rawType": "int64",
         "type": "integer"
        },
        {
         "name": "juv_other_count",
         "rawType": "int64",
         "type": "integer"
        },
        {
         "name": "priors_count",
         "rawType": "int64",
         "type": "integer"
        },
        {
         "name": "c_jail_in",
         "rawType": "object",
         "type": "unknown"
        },
        {
         "name": "c_jail_out",
         "rawType": "object",
         "type": "unknown"
        },
        {
         "name": "c_charge_degree",
         "rawType": "object",
         "type": "string"
        },
        {
         "name": "is_recid",
         "rawType": "int64",
         "type": "integer"
        },
        {
         "name": "is_violent_recid",
         "rawType": "int64",
         "type": "integer"
        }
       ],
       "conversionMethod": "pd.DataFrame",
       "ref": "c69bdb00-5b1b-4226-b9b8-5cee9ce775c1",
       "rows": [
        [
         "0",
         "Male",
         "69",
         "Other",
         "0",
         "1",
         "0",
         "0",
         "0",
         "2013-08-13 06:03:42",
         "2013-08-14 05:41:20",
         "F",
         "0",
         "0"
        ],
        [
         "1",
         "Male",
         "34",
         "African-American",
         "0",
         "3",
         "0",
         "0",
         "0",
         "2013-01-26 03:45:27",
         "2013-02-05 05:36:53",
         "F",
         "1",
         "1"
        ],
        [
         "2",
         "Male",
         "23",
         "African-American",
         "0",
         "8",
         "1",
         "0",
         "1",
         null,
         null,
         "F",
         "0",
         "0"
        ],
        [
         "3",
         "Male",
         "43",
         "Other",
         "0",
         "1",
         "0",
         "0",
         "2",
         null,
         null,
         "F",
         "0",
         "0"
        ],
        [
         "4",
         "Male",
         "44",
         "Other",
         "0",
         "1",
         "0",
         "0",
         "0",
         "2013-11-30 04:50:18",
         "2013-12-01 12:28:56",
         "M",
         "0",
         "0"
        ]
       ],
       "shape": {
        "columns": 13,
        "rows": 5
       }
      },
      "text/html": [
       "<div>\n",
       "<style scoped>\n",
       "    .dataframe tbody tr th:only-of-type {\n",
       "        vertical-align: middle;\n",
       "    }\n",
       "\n",
       "    .dataframe tbody tr th {\n",
       "        vertical-align: top;\n",
       "    }\n",
       "\n",
       "    .dataframe thead th {\n",
       "        text-align: right;\n",
       "    }\n",
       "</style>\n",
       "<table border=\"1\" class=\"dataframe\">\n",
       "  <thead>\n",
       "    <tr style=\"text-align: right;\">\n",
       "      <th></th>\n",
       "      <th>sex</th>\n",
       "      <th>age</th>\n",
       "      <th>race</th>\n",
       "      <th>juv_fel_count</th>\n",
       "      <th>decile_score</th>\n",
       "      <th>juv_misd_count</th>\n",
       "      <th>juv_other_count</th>\n",
       "      <th>priors_count</th>\n",
       "      <th>c_jail_in</th>\n",
       "      <th>c_jail_out</th>\n",
       "      <th>c_charge_degree</th>\n",
       "      <th>is_recid</th>\n",
       "      <th>is_violent_recid</th>\n",
       "    </tr>\n",
       "  </thead>\n",
       "  <tbody>\n",
       "    <tr>\n",
       "      <th>0</th>\n",
       "      <td>Male</td>\n",
       "      <td>69</td>\n",
       "      <td>Other</td>\n",
       "      <td>0</td>\n",
       "      <td>1</td>\n",
       "      <td>0</td>\n",
       "      <td>0</td>\n",
       "      <td>0</td>\n",
       "      <td>2013-08-13 06:03:42</td>\n",
       "      <td>2013-08-14 05:41:20</td>\n",
       "      <td>F</td>\n",
       "      <td>0</td>\n",
       "      <td>0</td>\n",
       "    </tr>\n",
       "    <tr>\n",
       "      <th>1</th>\n",
       "      <td>Male</td>\n",
       "      <td>34</td>\n",
       "      <td>African-American</td>\n",
       "      <td>0</td>\n",
       "      <td>3</td>\n",
       "      <td>0</td>\n",
       "      <td>0</td>\n",
       "      <td>0</td>\n",
       "      <td>2013-01-26 03:45:27</td>\n",
       "      <td>2013-02-05 05:36:53</td>\n",
       "      <td>F</td>\n",
       "      <td>1</td>\n",
       "      <td>1</td>\n",
       "    </tr>\n",
       "    <tr>\n",
       "      <th>2</th>\n",
       "      <td>Male</td>\n",
       "      <td>23</td>\n",
       "      <td>African-American</td>\n",
       "      <td>0</td>\n",
       "      <td>8</td>\n",
       "      <td>1</td>\n",
       "      <td>0</td>\n",
       "      <td>1</td>\n",
       "      <td>NaN</td>\n",
       "      <td>NaN</td>\n",
       "      <td>F</td>\n",
       "      <td>0</td>\n",
       "      <td>0</td>\n",
       "    </tr>\n",
       "    <tr>\n",
       "      <th>3</th>\n",
       "      <td>Male</td>\n",
       "      <td>43</td>\n",
       "      <td>Other</td>\n",
       "      <td>0</td>\n",
       "      <td>1</td>\n",
       "      <td>0</td>\n",
       "      <td>0</td>\n",
       "      <td>2</td>\n",
       "      <td>NaN</td>\n",
       "      <td>NaN</td>\n",
       "      <td>F</td>\n",
       "      <td>0</td>\n",
       "      <td>0</td>\n",
       "    </tr>\n",
       "    <tr>\n",
       "      <th>4</th>\n",
       "      <td>Male</td>\n",
       "      <td>44</td>\n",
       "      <td>Other</td>\n",
       "      <td>0</td>\n",
       "      <td>1</td>\n",
       "      <td>0</td>\n",
       "      <td>0</td>\n",
       "      <td>0</td>\n",
       "      <td>2013-11-30 04:50:18</td>\n",
       "      <td>2013-12-01 12:28:56</td>\n",
       "      <td>M</td>\n",
       "      <td>0</td>\n",
       "      <td>0</td>\n",
       "    </tr>\n",
       "  </tbody>\n",
       "</table>\n",
       "</div>"
      ],
      "text/plain": [
       "    sex  age              race  juv_fel_count  decile_score  juv_misd_count  \\\n",
       "0  Male   69             Other              0             1               0   \n",
       "1  Male   34  African-American              0             3               0   \n",
       "2  Male   23  African-American              0             8               1   \n",
       "3  Male   43             Other              0             1               0   \n",
       "4  Male   44             Other              0             1               0   \n",
       "\n",
       "   juv_other_count  priors_count            c_jail_in           c_jail_out  \\\n",
       "0                0             0  2013-08-13 06:03:42  2013-08-14 05:41:20   \n",
       "1                0             0  2013-01-26 03:45:27  2013-02-05 05:36:53   \n",
       "2                0             1                  NaN                  NaN   \n",
       "3                0             2                  NaN                  NaN   \n",
       "4                0             0  2013-11-30 04:50:18  2013-12-01 12:28:56   \n",
       "\n",
       "  c_charge_degree  is_recid  is_violent_recid  \n",
       "0               F         0                 0  \n",
       "1               F         1                 1  \n",
       "2               F         0                 0  \n",
       "3               F         0                 0  \n",
       "4               M         0                 0  "
      ]
     },
     "execution_count": 5,
     "metadata": {},
     "output_type": "execute_result"
    }
   ],
   "source": [
    "df_selected = df.loc[:, selected_columns]\n",
    "df_selected.head()"
   ]
  },
  {
   "cell_type": "code",
   "execution_count": 13,
   "metadata": {},
   "outputs": [
    {
     "name": "stdout",
     "output_type": "stream",
     "text": [
      "['Other' 'African-American' 'Caucasian' 'Hispanic' 'Asian'\n",
      " 'Native American']\n"
     ]
    }
   ],
   "source": [
    "print(df_selected['race'].unique())\n",
    "df_selected['race'] = df_selected['race'].map({'Other':0, 'African-American':1,\n",
    "                                                'Caucasian':2, 'Hispanic':3, 'Asian':4,\n",
    "                                                 'Native American':5})"
   ]
  },
  {
   "cell_type": "code",
   "execution_count": 18,
   "metadata": {},
   "outputs": [],
   "source": [
    "df_selected['c_charge_degree'] = df_selected['c_charge_degree'].map({'F':1,'M':0})"
   ]
  },
  {
   "cell_type": "code",
   "execution_count": null,
   "metadata": {},
   "outputs": [
    {
     "name": "stdout",
     "output_type": "stream",
     "text": [
      "0      -1.0\n",
      "1      -1.0\n",
      "2      -1.0\n",
      "3      -1.0\n",
      "4      -1.0\n",
      "       ... \n",
      "4738   -1.0\n",
      "4739   -1.0\n",
      "4740   -1.0\n",
      "4741   -1.0\n",
      "4742   -1.0\n",
      "Name: sex, Length: 4743, dtype: float64\n"
     ]
    }
   ],
   "source": [
    "df_selected['sex'] = df_selected['sex'].map({'Male': 1,'Female': 0}).fillna(-1)\n",
    "print(df_selected['sex'])"
   ]
  },
  {
   "cell_type": "code",
   "execution_count": 24,
   "metadata": {},
   "outputs": [],
   "source": [
    "df_selected_corr = df_selected.drop(columns=['c_jail_in', 'c_jail_out'])"
   ]
  },
  {
   "cell_type": "code",
   "execution_count": 25,
   "metadata": {},
   "outputs": [
    {
     "data": {
      "image/png": "[encoded data removed]",
      "text/plain": [
       "<Figure size 640x480 with 2 Axes>"
      ]
     },
     "metadata": {},
     "output_type": "display_data"
    }
   ],
   "source": [
    "corr = df_selected_corr.corr()\n",
    "ax = sns.heatmap(corr, annot=True)"
   ]
  },
  {
   "cell_type": "code",
   "execution_count": null,
   "metadata": {},
   "outputs": [],
   "source": []
  }
 ],
 "metadata": {
  "kernelspec": {
   "display_name": "Python 3",
   "language": "python",
   "name": "python3"
  },
  "language_info": {
   "codemirror_mode": {
    "name": "ipython",
    "version": 3
   },
   "file_extension": ".py",
   "mimetype": "text/x-python",
   "name": "python",
   "nbconvert_exporter": "python",
   "pygments_lexer": "ipython3",
   "version": "3.10.12"
  }
 },
 "nbformat": 4,
 "nbformat_minor": 2
}
